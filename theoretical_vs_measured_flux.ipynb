{
 "cells": [
  {
   "cell_type": "code",
   "execution_count": 89,
   "outputs": [
    {
     "data": {
      "text/plain": "<Figure size 640x480 with 1 Axes>",
      "image/png": "[encoded data removed]"
     },
     "metadata": {},
     "output_type": "display_data"
    },
    {
     "name": "stdout",
     "output_type": "stream",
     "text": [
      "Flux at 21 AU: 81.88877240612763\n"
     ]
    }
   ],
   "source": [
    "import matplotlib.pyplot as plt\n",
    "import numpy as np\n",
    "from scipy.integrate import quad\n",
    "from astropy import constants\n",
    "\n",
    "from data_file import source_list_garrett, luminosity_list_barenfeld_updated, radius_dust_updated, flux_list_2_87mm_garrett, flux_barenfeld_0_88mm_updated\n",
    "from Table_1 import distances_106\n",
    "from Table_2 import surface_density_list\n",
    "from Table_3 import opacity_list_3mm, opacity_list_0_87mm, temperature_list_van_der_plas\n",
    "# all constants in cgs\n",
    "wavelength_list = [0.088, 0.287]\n",
    "c = constants.c.cgs.value\n",
    "h = constants.h.cgs.value\n",
    "k_b = constants.k_B.cgs.value\n",
    "s_b = constants.sigma_sb.cgs.value\n",
    "L_sun = constants.L_sun.cgs.value\n",
    "c = constants.c.cgs.value\n",
    "\n",
    "star_name = \"J16153456-2242421\"\n",
    "index_star = source_list_garrett.index(star_name)\n",
    "\n",
    "# following values can be changed\n",
    "flaring = 0.02\n",
    "log_L_star = luminosity_list_barenfeld_updated[index_star]\n",
    "L_star = (10 ** log_L_star) * L_sun\n",
    "k_v_3mm = opacity_list_3mm[index_star]\n",
    "k_v_0_87mm = opacity_list_0_87mm[index_star]\n",
    "sur_den_0 = surface_density_list[index_star]\n",
    "\n",
    "temperature_star = temperature_list_van_der_plas[index_star]\n",
    "AU_in_cm = 1.5 * 10 ** 13\n",
    "d = distances_106[index_star] * AU_in_cm\n",
    "R_in = 1 *AU_in_cm\n",
    "R_out = radius_dust_updated[index_star] * AU_in_cm\n",
    "R_out_list = np.linspace(1, 25, 1000) * AU_in_cm\n",
    "\n",
    "\n",
    "function_to_integrate = lambda R, planck_function_wavelength: planck_function_wavelength * R\n",
    "\n",
    "def planck_function_frequency(frequency, temperature):\n",
    "    \"\"\"\n",
    "    Returns the Planck function at a given frequency and temperature.\n",
    "    \"\"\"\n",
    "    exponent = h*frequency/(k_b*temperature)\n",
    "    return 2*h*frequency**3/c**2 * 1/(np.exp(exponent)-1)\n",
    "\n",
    "def integrated_planck_radius(R_in, R_out, temperature):\n",
    "    \"\"\"\n",
    "    Integrates the Planck function multiplied by the radius from R_in to R_out.\n",
    "    Returns the result in units of erg/s/cm^2.\n",
    "    \"\"\"\n",
    "    function_to_integrate = lambda R, temperature: 4*np.pi*R**2*planck_function_frequency(c/0.088, temperature)\n",
    "    result, _ = quad(function_to_integrate, R_in, R_out, args=(temperature,))\n",
    "    return result\n",
    "\n",
    "def passive_T(R, L_star, flaring=0.02):\n",
    "    T = (flaring * L_star / (8 * np.pi * R ** 2 * s_b)) ** (1/4)\n",
    "    return T\n",
    "\n",
    "def final(i, d, R_in, R_out, L_star, flaring=0.02):\n",
    "    theoretical_flux = 2 * np.pi * np.cos(i) * integrated_planck_radius(R_in, R_out, passive_T(R_out, L_star, flaring=0.02)) / (d**2)\n",
    "    return theoretical_flux\n",
    "\n",
    "i = 46 * np.pi/180\n",
    "# for i in radians from 'x' degrees i = x * np.pi/180\n",
    "# for i in degrees from 'x' radians i = x * 180/np.pi\n",
    "y_values = []\n",
    "for radiuses in R_out_list:\n",
    "    y_values.append(final(i, d, R_in, radiuses, L_star, flaring=0.02))\n",
    "i = i * 180/np.pi\n",
    "plt.plot(R_out_list/AU_in_cm, y_values, label= str(i) + \" degrees\")\n",
    "\n",
    "plt.legend()\n",
    "plt.yscale('log')\n",
    "plt.show()\n",
    "\n",
    "i = 46 * np.pi/180\n",
    "flux_21AU = final(i, d, R_in, 21.012 * AU_in_cm, L_star, flaring=0.02)\n",
    "print('Flux at 21 AU:', flux_21AU)"
   ],
   "metadata": {
    "collapsed": false
   }
  },
  {
   "cell_type": "code",
   "execution_count": 90,
   "outputs": [
    {
     "name": "stdout",
     "output_type": "stream",
     "text": [
      "14.35 %\n"
     ]
    }
   ],
   "source": [
    "print(round(flux_barenfeld_0_88mm_updated[index_star]/flux_21AU * 100, 2), '%')"
   ],
   "metadata": {
    "collapsed": false
   }
  },
  {
   "cell_type": "code",
   "execution_count": 87,
   "outputs": [],
   "source": [],
   "metadata": {
    "collapsed": false
   }
  }
 ],
 "metadata": {
  "kernelspec": {
   "display_name": "Python 3",
   "language": "python",
   "name": "python3"
  },
  "language_info": {
   "codemirror_mode": {
    "name": "ipython",
    "version": 2
   },
   "file_extension": ".py",
   "mimetype": "text/x-python",
   "name": "python",
   "nbconvert_exporter": "python",
   "pygments_lexer": "ipython2",
   "version": "2.7.6"
  }
 },
 "nbformat": 4,
 "nbformat_minor": 0
}
