{
 "cells": [
  {
   "cell_type": "markdown",
   "source": [
    "##  Parallaxes"
   ],
   "metadata": {
    "collapsed": false
   }
  },
  {
   "cell_type": "code",
   "execution_count": 1,
   "outputs": [
    {
     "name": "stdout",
     "output_type": "stream",
     "text": [
      "done\n"
     ]
    }
   ],
   "source": [
    "%run Data_file\n",
    "from scipy.interpolate import interp1d\n",
    "import numpy as np\n",
    "\n",
    "#import values for all sources into a table\n",
    "value_single_source = []\n",
    "trial = []\n",
    "f = open('GAIA3 archive.json', 'r')\n",
    "lines = f.readlines()[20:-2]\n",
    "initial_value = 0\n",
    "for z in range(len(lines)):\n",
    "    trial = lines[z][1:]\n",
    "    x = 0\n",
    "    for x in range(len(trial)):\n",
    "        #cut the elements when a ',' is met\n",
    "        if trial[x] == ',':\n",
    "            value_single_source.append(trial[initial_value:x])\n",
    "            initial_value = x+1\n",
    "f.close()\n",
    "value_single_source_updated = []\n",
    "\n",
    "#eliminate bracket from values\n",
    "for x in value_single_source:\n",
    "    for z in range(len(x)):\n",
    "        if x[z] == ']':\n",
    "            x = x[:z]\n",
    "    value_single_source_updated.append(x)\n",
    "\n",
    "\n",
    "#eliminate empty values in list\n",
    "#value_single_source_updated = [i for i in value_single_source_updated if i]\n",
    "\n",
    "#extract parallax values from table\n",
    "sources_106 = []\n",
    "parallax_106 = []\n",
    "parallax_error_106 = []\n",
    "for i in range(106):\n",
    "    parallax_106.append(value_single_source_updated[15 * i + 4])\n",
    "    parallax_error_106.append(value_single_source_updated[15 * i + 5])\n",
    "    sources_106.append(value_single_source_updated[15 * i + 6][1:-1])\n",
    "\n",
    "#change 'null' to 1000/145 so that the final distance is 145pc\n",
    "parallax_106 = ['6.896551724' if item == 'null' else item for item in parallax_106]\n",
    "parallax_error_106 = ['0.83594566' if item == 'null' else item for item in parallax_error_106]\n",
    "\n",
    "#change elements to floats\n",
    "parallax_106 = [float(x) for x in parallax_106]\n",
    "parallax_error_106 = [float(x) for x in parallax_error_106]\n",
    "\n",
    "#turn parallaxes into distances [pc]\n",
    "distances_106 = []\n",
    "distances_upper_error_106 = []\n",
    "distances_lower_error_106 = []\n",
    "for x in range(len(parallax_106)):\n",
    "    distances_106.append(1/parallax_106[x] * 1000)\n",
    "    distances_upper_error_106.append((1 / (parallax_106[x] - parallax_error_106[x])) * 1000 - distances_106[x])\n",
    "    distances_lower_error_106.append((1 / (parallax_106[x] + parallax_error_106[x])) * 1000 - distances_106[x])\n",
    "\n",
    "#update luminosity and the error\n",
    "luminosity_106 = []\n",
    "luminosity_error_106 = []\n",
    "for x in range(len(distances_106)):\n",
    "    luminosity_106.append(np.log10((10 ** luminosity_list_barenfeld[x]) * (distances_106[x]**2) / (145**2)))\n",
    "\n",
    "#interpolate function from points in feiden\n",
    "f = interp1d(temperature_feiden, mass_feiden)\n",
    "\n",
    "#calculate masses\n",
    "masses_106 = []\n",
    "temperature_list_barenfeld_error_values = []\n",
    "for index, element in enumerate(temperature_list_barenfeld):\n",
    "    temperature_list_barenfeld_error_values.append(10**(element + temperature_list_barenfeld_error[index])-10**(element))\n",
    "\n",
    "temperature_list_barenfeld = [10**x for x in temperature_list_barenfeld]\n",
    "for x in temperature_list_barenfeld:\n",
    "    masses_106.append(float(f(x)))\n",
    "\n",
    "distances_updated_upper_sco = []\n",
    "for index_source_garrett, element_source_garrett in enumerate(source_list_garrett):\n",
    "    for index_source_barenfeld, element_source_barenfeld in enumerate(source_list_barenfeld_2016):\n",
    "        if element_source_garrett == element_source_barenfeld:\n",
    "            distances_updated_upper_sco.append(distances_106[index_source_barenfeld])\n",
    "\n",
    "\n",
    "def update_luminosity(old_luminosity_list, new_distance):\n",
    "    return (10**old_luminosity_list) * (new_distance**2) / (145**2)\n",
    "\n",
    "#create function for creating error in luminosity\n",
    "def update_luminosity_error(distance_new, new_distance_error, old_luminosity, old_luminosity_error):\n",
    "    return np.sqrt(((distance_new/145)**2 * old_luminosity_error)**2 + (old_luminosity/(145**2) * (2*distance_new) * new_distance_error)**2)\n",
    "\n",
    "luminosity_upper_error_106 = []\n",
    "luminosity_lower_error_106 = []\n",
    "luminosity_106 = [10**x for x in luminosity_106]\n",
    "\n",
    "for x in range(106):\n",
    "    luminosity_lower_error_106.append(update_luminosity_error(distances_106[x], distances_lower_error_106[x],\n",
    "                                                              luminosity_list_barenfeld[x], luminosity_list_barenfeld_error[x]))\n",
    "    luminosity_upper_error_106.append(update_luminosity_error(distances_106[x], distances_upper_error_106[x],\n",
    "                                                              luminosity_list_barenfeld[x], luminosity_list_barenfeld_error[x]))\n",
    "\n",
    "\n",
    "luminosity_upper_error_106_1 = []\n",
    "luminosity_lower_error_106_1 = []\n",
    "for i in range(106):\n",
    "    luminosity_upper_error_106_1.append(luminosity_upper_error_106[i] + luminosity_106[i])\n",
    "    luminosity_lower_error_106_1.append(luminosity_lower_error_106[i] + luminosity_106[i])\n",
    "\n",
    "luminosity_lower_error_106 = [np.log10(x) for x in luminosity_lower_error_106]\n",
    "luminosity_upper_error_106 = [np.log10(x) for x in luminosity_upper_error_106]\n",
    "\n",
    "luminosity_106 = [np.log10(x) for x in luminosity_106]\n",
    "\n",
    "luminosity_upper_error_106_2 = []\n",
    "luminosity_lower_error_106_2 = []\n",
    "for i in range(106):\n",
    "    luminosity_upper_error_106_2.append(luminosity_upper_error_106[i] + luminosity_106[i])\n",
    "    luminosity_lower_error_106_2.append(luminosity_lower_error_106[i] + luminosity_106[i])"
   ],
   "metadata": {
    "collapsed": false
   }
  },
  {
   "cell_type": "code",
   "execution_count": 2,
   "outputs": [],
   "source": [
    "\n",
    "#for i in range(106):\n",
    "#    luminosity_upper_error_106 = [x + luminosity_106[i] for x in luminosity_upper_error_106]\n",
    "#    luminosity_lower_error_106 = [x + luminosity_106[i] for x in luminosity_lower_error_106]\n",
    "\n",
    "#luminosity_106 = [10**x for x in luminosity_106]\n",
    "#calculate the errors for the luminosities\n",
    "#average_new_luminosity_106 = []\n",
    "#upper_error_new_luminosities_106 = []\n",
    "#lower_error_new_luminosities_106 = []\n",
    "#for index_distance_106, element_distance_106 in enumerate(distances_106):\n",
    "#    distance_range_list = []\n",
    "#    luminosity_range_list = []\n",
    "#    x_values = []\n",
    "#    new_luminosities_list = []\n",
    "#    distance_range_list = np.arange(element_distance_106 - distances_error_106[index_distance_106], element_distance_106\n",
    "#                                    + distances_error_106[index_distance_106], distances_error_106[index_distance_106] / 100)\n",
    "#    luminosity_range_list = np.arange(luminosity_list_barenfeld[index_distance_106] - luminosity_list_barenfeld_error[index_distance_106],\n",
    "#                                      luminosity_list_barenfeld[index_distance_106] + luminosity_list_barenfeld_error[index_distance_106],\n",
    "#                                      luminosity_list_barenfeld_error[index_distance_106] / 100)\n",
    "#    for x in range(99):\n",
    "#        for z in range(99):\n",
    "#            new_luminosities_list.append(update_luminosity(luminosity_range_list[z], distance_range_list[x]))\n",
    "#        x_values.append(distance_range_list[x])\n",
    "#\n",
    "#\n",
    "#    average_new_luminosity_106.append(np.log10(mean(new_luminosities_list)))\n",
    "#\n",
    "#    upper_error_new_luminosities_106.append(np.log10(luminosity_106[index_distance_106]) -np.log10(max(new_luminosities_list)))\n",
    "#    lower_error_new_luminosities_106.append(np.log10(min(new_luminosities_list)) - np.log10(luminosity_106[index_distance_106]))\n",
    "\n",
    "\n",
    "#plt.hist(np.log10(new_luminosities_list), 500)\n",
    "#plt.show()\n",
    "#luminosity_106 = [np.log10(x) for x in luminosity_106]"
   ],
   "metadata": {
    "collapsed": false
   }
  },
  {
   "cell_type": "code",
   "execution_count": 3,
   "outputs": [
    {
     "data": {
      "text/plain": "<Figure size 432x288 with 1 Axes>",
      "image/png": "[encoded data removed]"
     },
     "metadata": {
      "needs_background": "light"
     },
     "output_type": "display_data"
    }
   ],
   "source": [
    "import matplotlib.pyplot as plt\n",
    "fig, ax = plt.subplots()\n",
    "\n",
    "#set thickness axis\n",
    "plt.setp(ax.spines.values(), linewidth=2)\n",
    "\n",
    "#avoid axis labels being cut\n",
    "plt.gcf().subplots_adjust(bottom=0.15, left=0.15)\n",
    "\n",
    "#manipulate trasnparency errobars\n",
    "kwargs_errobar = {'alpha': 0.3}\n",
    "\n",
    "#create initial and final point for the line\n",
    "x = [-2, 1]\n",
    "y = [-2, 1]\n",
    "\n",
    "luminosity_lower_error_106_2 = [np.abs(x) for x in luminosity_lower_error_106_2]\n",
    "luminosity_upper_error_106_2 = [np.abs(x) for x in luminosity_upper_error_106_2]\n",
    "plt.scatter(luminosity_list_barenfeld, luminosity_106)\n",
    "plt.errorbar(luminosity_list_barenfeld, luminosity_106, xerr=luminosity_list_barenfeld_error, ls='none', c='gray', **kwargs_errobar)\n",
    "plt.errorbar(luminosity_list_barenfeld, luminosity_106, yerr=(luminosity_upper_error_106_2, luminosity_lower_error_106_2) , ls='none', c='gray', **kwargs_errobar)\n",
    "plt.xlabel('$L_{Barenfeld} log(L_{\\star}/L_{\\odot})$', fontsize=20), plt.ylabel('$L_{new} log(L_{\\star}/L_{\\odot})$', fontsize=20)\n",
    "plt.grid()\n",
    "\n",
    "#create straight line with equation y=x\n",
    "plt.plot(x,y, c='orange')\n",
    "ax.tick_params(which='both', labelsize=15)\n",
    "plt.savefig('106 Luminosity updated')\n",
    "plt.show()\n"
   ],
   "metadata": {
    "collapsed": false
   }
  },
  {
   "cell_type": "code",
   "execution_count": 4,
   "outputs": [
    {
     "data": {
      "text/plain": "<Figure size 432x288 with 1 Axes>",
      "image/png": "[encoded data removed]"
     },
     "metadata": {
      "needs_background": "light"
     },
     "output_type": "display_data"
    }
   ],
   "source": [
    "fig, ax = plt.subplots()\n",
    "\n",
    "#set thickness axis\n",
    "plt.setp(ax.spines.values(), linewidth=2)\n",
    "\n",
    "#avoid axis labels being cut\n",
    "plt.gcf().subplots_adjust(bottom=0.15, left=0.15)\n",
    "\n",
    "#create line limits\n",
    "x = np.linspace(np.min(temperature_feiden), np.max(temperature_feiden))\n",
    "\n",
    "plt.plot(x,f(x))\n",
    "plt.scatter(temperature_list_barenfeld, masses_106)\n",
    "plt.xlabel(r'$T_{eff}\\rm[K]$', fontsize=20), plt.ylabel(r'$M_{\\star}(M_{\\odot})$', fontsize=20)\n",
    "plt.grid()\n",
    "ax.tick_params(which='both', labelsize=15)\n",
    "plt.savefig('Mass 106 Feiden')\n",
    "plt.show()\n",
    "\n"
   ],
   "metadata": {
    "collapsed": false
   }
  },
  {
   "cell_type": "code",
   "execution_count": 4,
   "outputs": [],
   "source": [],
   "metadata": {
    "collapsed": false
   }
  }
 ],
 "metadata": {
  "kernelspec": {
   "display_name": "Python 3",
   "language": "python",
   "name": "python3"
  },
  "language_info": {
   "codemirror_mode": {
    "name": "ipython",
    "version": 2
   },
   "file_extension": ".py",
   "mimetype": "text/x-python",
   "name": "python",
   "nbconvert_exporter": "python",
   "pygments_lexer": "ipython2",
   "version": "2.7.6"
  }
 },
 "nbformat": 4,
 "nbformat_minor": 0
}
