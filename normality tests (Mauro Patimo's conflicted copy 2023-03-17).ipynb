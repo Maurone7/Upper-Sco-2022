{
 "cells": [
  {
   "cell_type": "code",
   "execution_count": null,
   "metadata": {
    "collapsed": true,
    "pycharm": {
     "is_executing": true
    }
   },
   "outputs": [],
   "source": [
    "from scipy.stats import shapiro, anderson, lilliefors, anderson\n",
    "\n",
    "log_flux_rotated = []\n",
    "spectral_index_rotated = []\n",
    "\n",
    "\n",
    "with open('lowest_chi_all_rotated_points_table.tex') as f:\n",
    "    lines = f.readlines()[17:]\n",
    "    for line in lines:\n",
    "        log_flux_rotated.append(float(line.split('&')[1].split('\\\\')[2]))\n",
    "        spectral_index_rotated.append(float(line.split('&')[2].split('\\\\')[3]))\n",
    "\n",
    "print(log_flux_rotated)"
   ]
  },
  {
   "cell_type": "code",
   "execution_count": null,
   "outputs": [],
   "source": [],
   "metadata": {
    "collapsed": false
   }
  }
 ],
 "metadata": {
  "kernelspec": {
   "display_name": "Python 3",
   "language": "python",
   "name": "python3"
  },
  "language_info": {
   "codemirror_mode": {
    "name": "ipython",
    "version": 2
   },
   "file_extension": ".py",
   "mimetype": "text/x-python",
   "name": "python",
   "nbconvert_exporter": "python",
   "pygments_lexer": "ipython2",
   "version": "2.7.6"
  }
 },
 "nbformat": 4,
 "nbformat_minor": 0
}
