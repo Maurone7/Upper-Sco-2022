{
 "cells": [
  {
   "cell_type": "code",
   "execution_count": 137,
   "outputs": [
    {
     "name": "stdout",
     "output_type": "stream",
     "text": [
      "done\n"
     ]
    }
   ],
   "source": [
    "%run Data_file"
   ],
   "metadata": {
    "collapsed": false
   }
  },
  {
   "cell_type": "code",
   "execution_count": 138,
   "outputs": [],
   "source": [
    "masses_upper_error = []\n",
    "matching_sources = []\n",
    "matching_sources_masses = []\n",
    "matching_sources_flux = []\n",
    "\n",
    "#find points that have to be red by finding sources that match in Barenfeld and Garrett\n",
    "for x in range(len(source_list_garrett)):\n",
    "    for z in range(len(source_list_barenfeld_2016)):\n",
    "        if source_list_garrett[x] == source_list_barenfeld_2016[z]:\n",
    "            matching_sources.append(source_list_barenfeld_2016[z])\n",
    "            matching_sources_flux.append(flux_barenfeld_0_88mm[z])\n",
    "\n",
    "indices = []\n",
    "arrows_fluxes = []\n",
    "arrows_temperature = []\n",
    "arrows_temperature_error = []\n",
    "arrows_temperature_error_plot = []\n",
    "#find fluxes with lower bound < 0\n",
    "for x in range(len(flux_barenfeld_0_88mm)):\n",
    "    if 3*(flux_barenfeld_0_88_error[x]) >= flux_barenfeld_0_88mm[x]:\n",
    "        arrows_fluxes.append(3 * flux_barenfeld_0_88_error[x])\n",
    "        arrows_temperature.append(temperature_list_barenfeld[x])\n",
    "        arrows_temperature_error.append(temperature_list_barenfeld_error[x])\n",
    "        #add their position in the list to a list to use later\n",
    "        indices.append(x)\n",
    "\n",
    "\n",
    "#inverse order of indices added so that it does not delete from the first one and creates a list too short and can not pop the lasts ones\n",
    "indices.reverse()\n",
    "for x in indices:\n",
    "    flux_barenfeld_0_88mm.pop(x)\n",
    "    flux_barenfeld_0_88_error.pop(x)\n",
    "    temperature_list_barenfeld.pop(x)\n",
    "    temperature_list_barenfeld_error.pop(x)\n",
    "\n",
    "#create values for errobars\n",
    "temperature_error = []\n",
    "for x in range(len(temperature_list_barenfeld)):\n",
    "    temperature_error.append(10**(temperature_list_barenfeld[x] + temperature_list_barenfeld_error[x]) -\n",
    "                             10**(temperature_list_barenfeld[x]))\n",
    "\n",
    "for x in range(len(arrows_temperature_error)):\n",
    "    arrows_temperature_error_plot.append(10**(arrows_temperature_error[x] + arrows_temperature[x]) - 10**(arrows_temperature[x]))\n",
    "\n",
    "#get rid of log in temperatures\n",
    "temperature_list_barenfeld = [10 ** x for x in temperature_list_barenfeld]\n",
    "temperature_list_barenfeld_updated = [10 ** x for x in temperature_list_barenfeld_updated]\n",
    "temperature_list_barenfeld_error = [10 ** x for x in temperature_list_barenfeld_error]\n",
    "arrows_temperature = [10 ** x for x in arrows_temperature]\n"
   ],
   "metadata": {
    "collapsed": false
   }
  },
  {
   "cell_type": "code",
   "execution_count": 139,
   "metadata": {},
   "outputs": [
    {
     "data": {
      "text/plain": "<Figure size 432x288 with 1 Axes>",
      "image/png": "[encoded data removed]"
     },
     "metadata": {
      "needs_background": "light"
     },
     "output_type": "display_data"
    },
    {
     "data": {
      "text/plain": "(None, None)"
     },
     "execution_count": 139,
     "metadata": {},
     "output_type": "execute_result"
    }
   ],
   "source": [
    "\n",
    "import matplotlib.pyplot as plt\n",
    "fig, ax = plt.subplots()\n",
    "\n",
    "#set thickness axis\n",
    "plt.setp(ax.spines.values(), linewidth=2)\n",
    "\n",
    "#avoid axis labels being cut\n",
    "plt.gcf().subplots_adjust(bottom=0.15, left=0.15)\n",
    "\n",
    "#manipulate trasnparency errobars\n",
    "kwargs_errobar = {'alpha':0.3}\n",
    "\n",
    "#create down pointing arrows\n",
    "plt.scatter(arrows_temperature, arrows_fluxes, marker=r'$\\downarrow$')\n",
    "\n",
    "#errorbar for arrows\n",
    "#plt.errorbar(arrows_temperature, arrows_fluxes, xerr=arrows_temperature_error_plot, ls='none')\n",
    "plt.scatter(temperature_list_barenfeld, flux_barenfeld_0_88mm, c='gray')\n",
    "plt.scatter(temperature_list_barenfeld_updated, matching_sources_flux, c='red')\n",
    "plt.errorbar(temperature_list_barenfeld, flux_barenfeld_0_88mm, yerr=flux_barenfeld_0_88_error, ls='none', c='blue',\n",
    "             **kwargs_errobar)\n",
    "plt.errorbar(temperature_list_barenfeld, flux_barenfeld_0_88mm, xerr=temperature_error, ls='none', c='blue',\n",
    "             **kwargs_errobar)\n",
    "plt.ylabel(r'$F_{0.88\\rm mm}$ [mJy]', fontsize=20), plt.xlabel(r'$T_{eff}\\rm\\ [K]$', fontsize=20)\n",
    "plt.yscale('log'), plt.xscale('log')\n",
    "ax.tick_params(which='both', labelsize=15)\n",
    "plt.savefig('Fig 1 new'), plt.show()\n"
   ]
  },
  {
   "cell_type": "code",
   "execution_count": 102,
   "metadata": {},
   "outputs": [],
   "source": []
  }
 ],
 "metadata": {
  "kernelspec": {
   "display_name": "Python 3",
   "language": "python",
   "name": "python3"
  },
  "language_info": {
   "codemirror_mode": {
    "name": "ipython",
    "version": 3
   },
   "file_extension": ".py",
   "mimetype": "text/x-python",
   "name": "python",
   "nbconvert_exporter": "python",
   "pygments_lexer": "ipython3",
   "version": "3.9.12"
  }
 },
 "nbformat": 4,
 "nbformat_minor": 1
}
